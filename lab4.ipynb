{
 "cells": [
  {
   "cell_type": "markdown",
   "id": "fdeff819",
   "metadata": {},
   "source": [
    "# Sinh Viên thực hiện Lab 4 ở Đây"
   ]
  },
  {
   "cell_type": "markdown",
   "id": "acc5d7dc",
   "metadata": {},
   "source": [
    "## Lab 1 - Bài 1"
   ]
  },
  {
   "cell_type": "code",
   "execution_count": 4,
   "id": "001e0507",
   "metadata": {},
   "outputs": [
    {
     "name": "stdout",
     "output_type": "stream",
     "text": [
      "Số nước sử dụng trong tháng: 100 m3\n",
      "Số tiền nước phải trả trong tháng: 1963000 VND\n"
     ]
    }
   ],
   "source": [
    "# Code lab 4 bài 1 ở đây\n",
    "# Viết một hàm để tính tiền nước sinh hoạt theo phương pháp lũy tiến. Tham số truyền vào hàm là số nước sử dụng trong tháng\n",
    "# Khai báo\n",
    "gia_ban_nuoc = (7500, 8800, 12000, 24000)\n",
    "# Nhập số nước sử dụng\n",
    "so_nuoc = int(input(\"Nhập số nước sử dụng trong tháng (m3): \"))\n",
    "# Tính tiền nước\n",
    "def tinh_tien_nuoc(so_nuoc):\n",
    "    tien_nuoc = 0\n",
    "    if so_nuoc <= 10:\n",
    "        tien_nuoc = so_nuoc * gia_ban_nuoc[0]\n",
    "    elif so_nuoc <= 20:\n",
    "        tien_nuoc = 10 * gia_ban_nuoc[0] + (so_nuoc - 10) * gia_ban_nuoc[1]\n",
    "    elif so_nuoc <= 30:\n",
    "        tien_nuoc = 10 * gia_ban_nuoc[0] + 10 * gia_ban_nuoc[1] + (so_nuoc - 20) * gia_ban_nuoc[2]\n",
    "    else:\n",
    "        tien_nuoc = 10 * gia_ban_nuoc[0] + 10 * gia_ban_nuoc[1] + 10 * gia_ban_nuoc[2] + (so_nuoc - 30) * gia_ban_nuoc[3]\n",
    "    return tien_nuoc\n",
    "# In kết quả\n",
    "tien_nuoc = tinh_tien_nuoc(so_nuoc)\n",
    "print(\"Số nước sử dụng trong tháng:\", so_nuoc,\"m3\")\n",
    "print(f\"Số tiền nước phải trả trong tháng: {tien_nuoc} VND\")\n",
    "\n"
   ]
  },
  {
   "cell_type": "markdown",
   "id": "c0835310",
   "metadata": {},
   "source": [
    "## Lab 4 - Bài 2"
   ]
  },
  {
   "cell_type": "code",
   "execution_count": 14,
   "id": "fa9cb39f",
   "metadata": {},
   "outputs": [
    {
     "name": "stdout",
     "output_type": "stream",
     "text": [
      "Nguyên liệu cần cho 1 hộp bánh:\n",
      " - Đường: 0.76 kg\n",
      " - Đậu: 0.4 kg\n"
     ]
    }
   ],
   "source": [
    "# Code lab 4  bài 2 ở đây\n",
    "# Xây dựng hàm\n",
    "def tinh_nguyen_lieu(so_dauxanh, so_thapcam, so_deo):\n",
    "    # Lượng nguyên liệu cho mỗi loại bánh (kg)\n",
    "    nguyen_lieu_banh = {\n",
    "        \"dauxanh\": {\"duong\": 0.04, \"dau\": 0.07},\n",
    "        \"thapcam\": {\"duong\": 0.06, \"dau\": 0.00},\n",
    "        \"deo\": {\"duong\": 0.05, \"dau\": 0.02}\n",
    "    }\n",
    "    # Tính tổng lượng đường và đậu\n",
    "    duong = (so_dauxanh * nguyen_lieu_banh[\"dauxanh\"][\"duong\"] +\n",
    "             so_thapcam * nguyen_lieu_banh[\"thapcam\"][\"duong\"] +\n",
    "             so_deo * nguyen_lieu_banh[\"deo\"][\"duong\"])\n",
    "    \n",
    "    dau = (so_dauxanh * nguyen_lieu_banh[\"dauxanh\"][\"dau\"] +\n",
    "            so_thapcam * nguyen_lieu_banh[\"thapcam\"][\"dau\"] +\n",
    "            so_deo * nguyen_lieu_banh[\"deo\"][\"dau\"])\n",
    "    # Trả về dictionary\n",
    "    return {\"duong\": duong, \"dau\": dau}\n",
    "# Nhập số lượng bánh\n",
    "so_dauxanh = int(input(\"Nhập số bánh đâu xanh: \"))\n",
    "so_thapcam = int(input(\"Nhập số bánh thập cẩm: \"))\n",
    "so_deo = int(input(\"Nhập số bánh dẻo: \"))\n",
    "# Gọi hàm\n",
    "ket_qua = tinh_nguyen_lieu(so_dauxanh, so_thapcam, so_deo)\n",
    "# In kết quả\n",
    "print(\"Nguyên liệu cần cho 1 hộp bánh:\")\n",
    "print(\" - Đường:\", ket_qua[\"duong\"], \"kg\")\n",
    "print(\" - Đậu:\", ket_qua[\"dau\"], \"kg\")\n"
   ]
  },
  {
   "cell_type": "markdown",
   "id": "0f2483fe",
   "metadata": {},
   "source": [
    "## Lab 4 - Bài 3"
   ]
  },
  {
   "cell_type": "code",
   "execution_count": 1,
   "id": "7034990b",
   "metadata": {},
   "outputs": [
    {
     "name": "stdout",
     "output_type": "stream",
     "text": [
      "Các số chẵn: []\n"
     ]
    }
   ],
   "source": [
    "# Code lab 4  bài 3 ở đây\n",
    "# Nhập mảng số nguyên\n",
    "day_so = list(map(int, input(\"Nhập mảng số nguyên, cách nhau bởi dấu cách: \").split()))\n",
    "# Lọc số chẵn\n",
    "so_chan = list(filter(lambda x: x % 2 == 0, day_so))\n",
    "# In kết quả\n",
    "print(\"Các số chẵn:\", so_chan)\n"
   ]
  },
  {
   "cell_type": "markdown",
   "id": "d36ea3d3",
   "metadata": {},
   "source": [
    "## Lab 4 - Bài 4"
   ]
  },
  {
   "cell_type": "code",
   "execution_count": 7,
   "id": "4c707ec1",
   "metadata": {},
   "outputs": [
    {
     "name": "stdout",
     "output_type": "stream",
     "text": [
      "==============================MENU==============================\n",
      "1. Tính tiền nước\n",
      "2. Tính nguyên liệu làm bánh\n",
      "3. Thoát\n",
      "==============================MENU==============================\n",
      "Số nước sử dụng trong tháng: 30 m3\n",
      "Số tiền nước phải trả trong tháng: 283000 VND\n",
      "==============================MENU==============================\n",
      "1. Tính tiền nước\n",
      "2. Tính nguyên liệu làm bánh\n",
      "3. Thoát\n",
      "==============================MENU==============================\n",
      "Thoát chương trình\n"
     ]
    }
   ],
   "source": [
    "# code lab 4 bài 4 ở đây\n",
    "# Menu\n",
    "menu = {\n",
    "    \"1\": \"Tính tiền nước\",\n",
    "    \"2\": \"Tính nguyên liệu làm bánh\",\n",
    "    \"3\": \"Thoát\"\n",
    "}\n",
    "while True:\n",
    "    print(\"===\" * 10 + \"MENU\" + \"===\" * 10)\n",
    "    for k, v in menu.items():\n",
    "        print(f\"{k}. {v}\")\n",
    "    print(\"===\" * 10 + \"MENU\" + \"===\" * 10)\n",
    "    lua_chon = input(\"Chọn chức năng (1-3): \")\n",
    "    if lua_chon == \"3\":\n",
    "        print(\"Thoát chương trình\")\n",
    "        break\n",
    "    elif lua_chon == \"1\":\n",
    "        # Tính tiền nước\n",
    "        so_nuoc = int(input(\"Nhập số nước sử dụng trong tháng (m3): \"))\n",
    "        tien_nuoc = tinh_tien_nuoc(so_nuoc)\n",
    "        print(\"Số nước sử dụng trong tháng:\", so_nuoc,\"m3\")\n",
    "        print(f\"Số tiền nước phải trả trong tháng: {tien_nuoc} VND\")\n",
    "    elif lua_chon == \"2\":\n",
    "        # Tính nguyên liệu làm bánh\n",
    "        so_dauxanh = int(input(\"Nhập số bánh đâu xanh: \"))\n",
    "        so_thapcam = int(input(\"Nhập số bánh thập cẩm: \"))\n",
    "        so_deo = int(input(\"Nhập số bánh dẻo: \"))\n",
    "        ket_qua = tinh_nguyen_lieu(so_dauxanh, so_thapcam, so_deo)\n",
    "        print(\"Nguyên liệu cần cho 1 hộp bánh:\")\n",
    "        print(\" - Đường:\", ket_qua[\"duong\"], \"kg\")\n",
    "        print(\" - Đậu:\", ket_qua[\"dau\"], \"kg\")\n"
   ]
  },
  {
   "cell_type": "markdown",
   "id": "e2b41d4a",
   "metadata": {},
   "source": [
    "## Lab 4 - Bài 5: bài tập làm thêm"
   ]
  },
  {
   "cell_type": "code",
   "execution_count": 8,
   "id": "0e0172f7",
   "metadata": {},
   "outputs": [
    {
     "name": "stdout",
     "output_type": "stream",
     "text": [
      "Chương trình máy tính bỏ túi\n",
      "Nhập hai số x, y:\n",
      "\n",
      "Chương trình máy tính bỏ túi\n",
      "0. Thoát\n",
      "1. Tổng\n",
      "2. Hiệu\n",
      "3. Tích\n",
      "4. Thương\n",
      "5. Lũy thừa x^y\n",
      "6. Sin\n",
      "7. Cos\n",
      "8. Tan\n",
      "9. Log cơ số 10\n",
      "10. ln\n",
      "11. Log cơ số tùy chọn\n",
      "12. Giải phương trình bậc nhất ax + b = 0\n",
      "13. Giải phương trình bậc hai ax^2 + bx + c = 0\n",
      "14. Thời gian hiện tại\n",
      "Thương x, y =  0.8\n",
      "Kết thúc chương trình\n"
     ]
    }
   ],
   "source": [
    "# code lab 4  bài làm thêm ở đây\n",
    "# Tạo menu\n",
    "menu = '''\n",
    "Chương trình máy tính bỏ túi\n",
    "0. Thoát\n",
    "1. Tổng\n",
    "2. Hiệu\n",
    "3. Tích\n",
    "4. Thương\n",
    "5. Lũy thừa x^y\n",
    "6. Sin\n",
    "7. Cos\n",
    "8. Tan\n",
    "9. Log cơ số 10\n",
    "10. ln\n",
    "11. Log cơ số tùy chọn\n",
    "12. Giải phương trình bậc nhất ax + b = 0\n",
    "13. Giải phương trình bậc hai ax^2 + bx + c = 0\n",
    "14. Thời gian hiện tại'''\n",
    "# Chương trình máy tính bỏ túi\n",
    "import math\n",
    "import datetime\n",
    "print(\"Chương trình máy tính bỏ túi\")\n",
    "print(\"Nhập hai số x, y:\")\n",
    "x = float(input(\"Nhập số x:\"))\n",
    "y = float(input(\"Nhập số y:\"))\n",
    "print(menu)\n",
    "while True:\n",
    "    lua_chon = input(\"Chọn chức năng (0-14): \")\n",
    "    if lua_chon not in [str(i) for i in range(15)]:\n",
    "        print(\"Lựa chọn không hợp lệ, hãy chọn lại\")\n",
    "        continue\n",
    "    match lua_chon:\n",
    "        case \"0\":\n",
    "            print(\"Kết thúc chương trình\")\n",
    "            break\n",
    "        case \"1\":\n",
    "            tong = x + y\n",
    "            print(\"Tổng x, y = \", round(tong,2))\n",
    "        case \"2\":\n",
    "            hieu = x - y\n",
    "            print(\"Hiệu x, y = \", round(hieu,2))\n",
    "        case \"3\":\n",
    "            tich = x * y\n",
    "            print(\"Tích x, y = \", round(tich,2))\n",
    "        case \"4\":\n",
    "            thuong = x / y\n",
    "            print(\"Thương x, y = \", round(thuong,2))\n",
    "        case \"5\":\n",
    "            luythua = x ** y\n",
    "            print(\"Lũy thừa x^y = \", round(luythua,2))\n",
    "        case \"6\":\n",
    "            sin_x = math.sin(x)\n",
    "            sin_y = math.sin(y)\n",
    "            print(f\"Sin ({x}) = {sin_x:.2f}\")\n",
    "            print(f\"Sin ({y}) = {sin_y:.2f}\")\n",
    "        case \"7\":\n",
    "            cos_x = math.cos(x)\n",
    "            cos_y = math.cos(y)\n",
    "            print(f\"Cos ({x}) = {cos_x:.2f}\")\n",
    "            print(f\"Cos ({y}) = {cos_y:.2f}\")\n",
    "        case \"8\":\n",
    "            tan_x = math.tan(x)\n",
    "            tan_y = math.tan(y)\n",
    "            print(f\"Tan ({x}) = {tan_x:.2f}\")\n",
    "            print(f\"Tan ({y}) = {tan_y:.2f}\")\n",
    "        case \"9\":\n",
    "            if x > 0:\n",
    "                log_x = math.log10(x)\n",
    "                print(f\"log10({x}) = {log_x:.2f}\")\n",
    "            else:\n",
    "                print(\"Không tính được log10(x) vì x <= 0\")\n",
    "\n",
    "            if y > 0:\n",
    "                log_y = math.log10(y)\n",
    "                print(f\"log10({y}) = {log_y:.2f}\")\n",
    "            else:\n",
    "                print(\"Không tính được log10(y) vì y <= 0\")\n",
    "        case \"10\":\n",
    "            if x > 0:\n",
    "                ln_x = math.log(x)\n",
    "                print(f\"ln({x}) = {ln_x:.2f}\")\n",
    "            else:\n",
    "                print(\"Không tính được ln(x) vì x <= 0\")\n",
    "            if y > 0:\n",
    "                ln_y = math.log(y)\n",
    "                print(f\"ln({y}) = {ln_y:.2f}\")\n",
    "            else:\n",
    "                print(\"Không tính được ln(y) vì y <= 0\")\n",
    "        case \"11\":\n",
    "            co_so = float(input(\"Nhập cơ số: \"))\n",
    "            if co_so <= 0 or co_so == 1:\n",
    "                print(\"Cơ số phải > 0 và khác 1\")\n",
    "            else:\n",
    "                if x > 0:\n",
    "                    log_x = math.log(x, co_so)\n",
    "                    print(f\"Log {co_so} ({x}) = {log_x:.2f}\")\n",
    "                else:\n",
    "                    print(\"Không tính được log(x) vì x <= 0\")\n",
    "\n",
    "                if y > 0:\n",
    "                    log_y = math.log(y, co_so)\n",
    "                    print(f\"Log {co_so} ({y}) = {log_y:.2f}\")\n",
    "                else:\n",
    "                    print(\"Không tính được log(y) vì y <= 0\")\n",
    "        case \"12\":\n",
    "            print(\"Giải phương trình bậc nhất ax + b = 0\")\n",
    "            a = float(input(\"Nhập số a: \"))\n",
    "            b = float(input(\"Nhập số b: \"))\n",
    "            if a == 0:\n",
    "                if b == 0:\n",
    "                    print(\"Phương trình vô số nghiệm\")\n",
    "                else:\n",
    "                    print(\"Phương trình vô nghiệm\")\n",
    "            else:\n",
    "                x = -b/a\n",
    "                print(\"Phương trình có nghiệm x =\", round(x,2))\n",
    "        case \"13\":\n",
    "            print(\"Giải phương trình bậc hai ax^2 + bx + c = 0\")\n",
    "            a = float(input(\"Nhập số a: \"))\n",
    "            b = float(input(\"Nhập số b: \"))\n",
    "            c = float(input(\"Nhập số c: \"))\n",
    "            if a == 0:\n",
    "                if b == 0:\n",
    "                    if c == 0:\n",
    "                        print(\"Phương trình vô số nghiệm\")\n",
    "                    else:\n",
    "                        print(\"Phương trình vô nghiệm\")\n",
    "                else:\n",
    "                    x = -c/b\n",
    "                    print(\"Phương trình có nghiệm x =\", round(x,2))\n",
    "            else:\n",
    "                delta = b**2 - 4*a*c\n",
    "                if delta < 0:\n",
    "                    print(\"Phương trình vô nghiệm\")\n",
    "                elif delta == 0:\n",
    "                    x = -b/(2*a)\n",
    "                    print(\"Phương trình có nghiệm kép x1 = x2 =\", round(x,2))\n",
    "                else:\n",
    "                    x1 = (-b + delta**0.5)/(2*a)\n",
    "                    x2 = (-b - delta**0.5)/(2*a)\n",
    "                    print(\"Phương trình có hai nghiệm phân biệt:\")\n",
    "                    print(\"x1 =\", round(x1,2))\n",
    "                    print(\"x2 =\", round(x2,2))\n",
    "        case \"14\":\n",
    "            now = datetime.datetime.now()\n",
    "\n",
    "\n",
    "\n",
    "\n"
   ]
  }
 ],
 "metadata": {
  "kernelspec": {
   "display_name": "Python 3",
   "language": "python",
   "name": "python3"
  },
  "language_info": {
   "codemirror_mode": {
    "name": "ipython",
    "version": 3
   },
   "file_extension": ".py",
   "mimetype": "text/x-python",
   "name": "python",
   "nbconvert_exporter": "python",
   "pygments_lexer": "ipython3",
   "version": "3.13.7"
  }
 },
 "nbformat": 4,
 "nbformat_minor": 5
}
