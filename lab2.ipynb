{
 "cells": [
  {
   "cell_type": "markdown",
   "id": "fdeff819",
   "metadata": {},
   "source": [
    "# Sinh Viên thực hiện Lab 2 ở Đây"
   ]
  },
  {
   "cell_type": "markdown",
   "id": "acc5d7dc",
   "metadata": {},
   "source": [
    "## Lab 2 - Bài 1"
   ]
  },
  {
   "cell_type": "code",
   "execution_count": null,
   "id": "001e0507",
   "metadata": {},
   "outputs": [
    {
     "name": "stdout",
     "output_type": "stream",
     "text": [
      "\n",
      "Kiếp con người mong manh như là gió\n",
      "Sống trên đời có được mấy lần vui\n",
      "Sao phải đau mà không thể mỉm cười\n",
      "Gắng buông nỗi ngậm ngùi nơi quá khứ\n",
      "\n",
      "Nếu có thể sao ta không làm thử\n",
      "Để tâm hồn khắc hai chữ bình an\n",
      "Cho đôi chân bước thanh thản nhẹ nhàng\n",
      "Dù hướng đời có muôn ngàn đá sỏi\n",
      "\n",
      "True\n",
      "6\n",
      "9\n",
      "CON NGƯỜI\n"
     ]
    }
   ],
   "source": [
    "# Code lab 2 bài 1 ở đây\n",
    "# Sử dụng 1 biến kiểu chuỗi để lưu bài thơ\n",
    "baitho = '''\n",
    "Kiếp con người mong manh như là gió\n",
    "Sống trên đời có được mấy lần vui\n",
    "Sao phải đau mà không thể mỉm cười\n",
    "Gắng buông nỗi ngậm ngùi nơi quá khứ\n",
    "\n",
    "Nếu có thể sao ta không làm thử\n",
    "Để tâm hồn khắc hai chữ bình an\n",
    "Cho đôi chân bước thanh thản nhẹ nhàng\n",
    "Dù hướng đời có muôn ngàn đá sỏi\n",
    "'''\n",
    "print(baitho)\n",
    "# Kiểm tra từ “con người” có trong chuỗi hay không? Xuất kết quả kiểm tra ra màn hình\n",
    "print(\"con người\" in baitho)\n",
    "# Sử dụng cú pháp trích ra 1 phần của chuỗi để lấy từ “con người”\n",
    "timkiem = baitho.find(\"con người\")\n",
    "print(timkiem)\n",
    "ketthuc = len(\"con người\")\n",
    "print(ketthuc)\n",
    "# Chuyển từ “con người” thành chữ hoa và xuất ra màn hình\n",
    "print(baitho[timkiem:ketthuc + timkiem].upper())\n",
    "\n",
    "# Sử dụng cú pháp trích ra 1 phần của chuỗi\n",
    "chuoitimkiem = input(\"Nhập chuỗi cần tìm: \")\n",
    "print(chuoitimkiem in baitho)\n",
    "index_1 = baitho.find(chuoitimkiem)\n",
    "print(index_1)\n",
    "index_2 = len(chuoitimkiem)\n",
    "print(index_2)\n",
    "baitho[index_1:index_2 + index_1]\n"
   ]
  },
  {
   "cell_type": "markdown",
   "id": "c0835310",
   "metadata": {},
   "source": [
    "## Lab 2 - Bài 2"
   ]
  },
  {
   "cell_type": "code",
   "execution_count": 25,
   "id": "fa9cb39f",
   "metadata": {},
   "outputs": [
    {
     "name": "stdout",
     "output_type": "stream",
     "text": [
      "\n",
      "Kiếp con người mong manh như là gió\n",
      "Sống trên đời có được mấy lần vui\n",
      "Sao phải đau mà không thể mỉm cười\n",
      "Gắng buông nỗi ngậm ngùi nơi quá khứ\n",
      "\n",
      "Nếu có thể sao ta không làm thử\n",
      "Để tâm hồn khắc hai chữ hạnh phúc\n",
      "Cho đôi chân bước thanh thản nhẹ nhàng\n",
      "Dù hướng đời có muôn ngàn đá sỏi\n",
      "\n"
     ]
    }
   ],
   "source": [
    "# Code lab 2  bài 2 ở đây\n",
    "print(baitho.replace(\"bình an\",\"hạnh phúc\"))"
   ]
  },
  {
   "cell_type": "markdown",
   "id": "0f2483fe",
   "metadata": {},
   "source": [
    "## Lab 2 - Bài 3"
   ]
  },
  {
   "cell_type": "code",
   "execution_count": 4,
   "id": "7034990b",
   "metadata": {},
   "outputs": [
    {
     "name": "stdout",
     "output_type": "stream",
     "text": [
      "Phương trình có nghiệm x = -1.65\n"
     ]
    }
   ],
   "source": [
    "# Code lab 2  bài 3 ở đây\n",
    "a = float(input(\"Nhập số a: \"))\n",
    "b = float(input(\"Nhập số b: \"))\n",
    "if a == 0:\n",
    "    if b == 0:\n",
    "        print(\"Phương trình vô số nghiệm\")\n",
    "    else:\n",
    "        print(\"Phương trình vô nghiệm\")\n",
    "else:\n",
    "    x = -b/a\n",
    "    print(\"Phương trình có nghiệm x =\", round(x,2))"
   ]
  },
  {
   "cell_type": "markdown",
   "id": "d36ea3d3",
   "metadata": {},
   "source": [
    "## Lab 2 - Bài 4"
   ]
  },
  {
   "cell_type": "code",
   "execution_count": 1,
   "id": "4c707ec1",
   "metadata": {},
   "outputs": [
    {
     "name": "stdout",
     "output_type": "stream",
     "text": [
      "Giải phương trình bậc hai ax^2 + bx + c = 0\n",
      "Phương trình vô nghiệm\n"
     ]
    }
   ],
   "source": [
    "# code lab 2 bài 4 ở đây\n",
    "print(\"Giải phương trình bậc hai ax^2 + bx + c = 0\")\n",
    "a = float(input(\"Nhập số a: \"))\n",
    "b = float(input(\"Nhập số b: \"))\n",
    "c = float(input(\"Nhập số c: \"))\n",
    "if a == 0:\n",
    "    if b == 0:\n",
    "        if c == 0:\n",
    "            print(\"Phương trình vô số nghiệm\")\n",
    "        else:\n",
    "            print(\"Phương trình vô nghiệm\")\n",
    "    else:\n",
    "        x = -c/b\n",
    "        print(\"Phương trình có nghiệm x =\", round(x,2))\n",
    "else:\n",
    "    delta = b**2 - 4*a*c\n",
    "    if delta < 0:\n",
    "        print(\"Phương trình vô nghiệm\")\n",
    "    elif delta == 0:\n",
    "        x = -b/(2*a)\n",
    "        print(\"Phương trình có nghiệm kép x1 = x2 =\", round(x,2))\n",
    "    else:\n",
    "        x1 = (-b + delta**0.5)/(2*a)\n",
    "        x2 = (-b - delta**0.5)/(2*a)\n",
    "        print(\"Phương trình có hai nghiệm phân biệt:\")\n",
    "        print(\"x1 =\", round(x1,2))\n",
    "        print(\"x2 =\", round(x2,2))\n",
    "\n"
   ]
  },
  {
   "cell_type": "markdown",
   "id": "e2b41d4a",
   "metadata": {},
   "source": [
    "## Lab 2 - Bài 5: bài tập làm thêm"
   ]
  },
  {
   "cell_type": "code",
   "execution_count": 2,
   "id": "0e0172f7",
   "metadata": {},
   "outputs": [
    {
     "name": "stdout",
     "output_type": "stream",
     "text": [
      "Tổng x, y =  9.0\n",
      "Hiệu x, y =  -1.0\n",
      "Tích x, y =  20.0\n",
      "Thương x, y =  0.8\n",
      "Lũy thừa x^y =  1024.0\n",
      "Sin (4.0) = -0.76\n",
      "Sin (5.0) = -0.96\n",
      "Cos (4.0) = -0.65\n",
      "Cos (5.0) = 0.28\n",
      "Tan (4.0) = 1.16\n",
      "Tan (5.0) = -3.38\n",
      "log10(4.0) = 0.60\n",
      "log10(5.0) = 0.70\n",
      "ln(4.0) = 1.39\n",
      "ln(5.0) = 1.61\n"
     ]
    },
    {
     "ename": "ValueError",
     "evalue": "could not convert string to float: ''",
     "output_type": "error",
     "traceback": [
      "\u001b[31m---------------------------------------------------------------------------\u001b[39m",
      "\u001b[31mValueError\u001b[39m                                Traceback (most recent call last)",
      "\u001b[36mCell\u001b[39m\u001b[36m \u001b[39m\u001b[32mIn[2]\u001b[39m\u001b[32m, line 61\u001b[39m\n\u001b[32m     59\u001b[39m     \u001b[38;5;28mprint\u001b[39m(\u001b[33m\"\u001b[39m\u001b[33mKhông tính được ln(y) vì y <= 0\u001b[39m\u001b[33m\"\u001b[39m)\n\u001b[32m     60\u001b[39m \u001b[38;5;66;03m# Log cơ số tùy chọn\u001b[39;00m\n\u001b[32m---> \u001b[39m\u001b[32m61\u001b[39m co_so = \u001b[38;5;28;43mfloat\u001b[39;49m\u001b[43m(\u001b[49m\u001b[38;5;28;43minput\u001b[39;49m\u001b[43m(\u001b[49m\u001b[33;43m\"\u001b[39;49m\u001b[33;43mNhập cơ số: \u001b[39;49m\u001b[33;43m\"\u001b[39;49m\u001b[43m)\u001b[49m\u001b[43m)\u001b[49m\n\u001b[32m     62\u001b[39m \u001b[38;5;28;01mif\u001b[39;00m co_so <= \u001b[32m0\u001b[39m \u001b[38;5;129;01mor\u001b[39;00m co_so == \u001b[32m1\u001b[39m:\n\u001b[32m     63\u001b[39m     \u001b[38;5;28mprint\u001b[39m(\u001b[33m\"\u001b[39m\u001b[33mCơ số phải > 0 và khác 1\u001b[39m\u001b[33m\"\u001b[39m)\n",
      "\u001b[31mValueError\u001b[39m: could not convert string to float: ''"
     ]
    }
   ],
   "source": [
    "# code lab 2  bài làm thêm ở đây \n",
    "# Viết chương trình nhập vào x, y và tính\n",
    "import math\n",
    "x = float(input(\"Nhập số x:\"))\n",
    "y = float(input(\"Nhập số y:\"))\n",
    "# Tổng\n",
    "tong = x + y\n",
    "print(\"Tổng x, y = \", round(tong,2))\n",
    "# Hiệu\n",
    "hieu = x - y\n",
    "print(\"Hiệu x, y = \", round(hieu,2))\n",
    "# Tích\n",
    "tich = x * y\n",
    "print(\"Tích x, y = \", round(tich,2))\n",
    "# Thương\n",
    "thuong = x / y\n",
    "print(\"Thương x, y = \", round(thuong,2))\n",
    "# Lũy thừa x^y\n",
    "luythua = x ** y\n",
    "print(\"Lũy thừa x^y = \", round(luythua,2))\n",
    "# Sin\n",
    "sin_x = math.sin(x)\n",
    "sin_y = math.sin(y)\n",
    "print(f\"Sin ({x}) = {sin_x:.2f}\")\n",
    "print(f\"Sin ({y}) = {sin_y:.2f}\")\n",
    "# Cos\n",
    "cos_x = math.cos(x)\n",
    "cos_y = math.cos(y)\n",
    "print(f\"Cos ({x}) = {cos_x:.2f}\")\n",
    "print(f\"Cos ({y}) = {cos_y:.2f}\")\n",
    "# Tan\n",
    "tan_x = math.tan(x)\n",
    "tan_y = math.tan(y)\n",
    "print(f\"Tan ({x}) = {tan_x:.2f}\")\n",
    "print(f\"Tan ({y}) = {tan_y:.2f}\")\n",
    "# Log cơ số 10\n",
    "if x > 0:\n",
    "    log_x = math.log10(x)\n",
    "    print(f\"log10({x}) = {log_x:.2f}\")\n",
    "else:\n",
    "    print(\"Không tính được log10(x) vì x <= 0\")\n",
    "\n",
    "if y > 0:\n",
    "    log_y = math.log10(y)\n",
    "    print(f\"log10({y}) = {log_y:.2f}\")\n",
    "else:\n",
    "    print(\"Không tính được log10(y) vì y <= 0\")\n",
    "# ln\n",
    "if x > 0:\n",
    "    ln_x = math.log(x)\n",
    "    print(f\"ln({x}) = {ln_x:.2f}\")\n",
    "else:\n",
    "    print(\"Không tính được ln(x) vì x <= 0\")\n",
    "\n",
    "if y > 0:\n",
    "    ln_y = math.log(y)\n",
    "    print(f\"ln({y}) = {ln_y:.2f}\")\n",
    "else:\n",
    "    print(\"Không tính được ln(y) vì y <= 0\")\n",
    "# Log cơ số tùy chọn\n",
    "co_so = float(input(\"Nhập cơ số: \"))\n",
    "if co_so <= 0 or co_so == 1:\n",
    "    print(\"Cơ số phải > 0 và khác 1\")\n",
    "else:\n",
    "    if x > 0:\n",
    "        log_x = math.log(x, co_so)\n",
    "        print(f\"Log {co_so} ({x}) = {log_x:.2f}\")\n",
    "    else:\n",
    "        print(\"Không tính được log(x) vì x <= 0\")\n",
    "\n",
    "    if y > 0:\n",
    "        log_y = math.log(y, co_so)\n",
    "        print(f\"Log {co_so} ({x}) = {log_x:.2f}\")\n",
    "    else:\n",
    "        print(\"Không tính được log(y) vì y <= 0\")\n",
    "     \n",
    "    \n",
    "\n",
    "\n"
   ]
  }
 ],
 "metadata": {
  "kernelspec": {
   "display_name": "Python 3",
   "language": "python",
   "name": "python3"
  },
  "language_info": {
   "codemirror_mode": {
    "name": "ipython",
    "version": 3
   },
   "file_extension": ".py",
   "mimetype": "text/x-python",
   "name": "python",
   "nbconvert_exporter": "python",
   "pygments_lexer": "ipython3",
   "version": "3.13.7"
  }
 },
 "nbformat": 4,
 "nbformat_minor": 5
}
