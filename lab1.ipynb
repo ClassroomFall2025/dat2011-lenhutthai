{
 "cells": [
  {
   "cell_type": "markdown",
   "id": "fdeff819",
   "metadata": {},
   "source": [
    "# Sinh Viên thực hiện Lab 1 ở Đây"
   ]
  },
  {
   "cell_type": "markdown",
   "id": "acc5d7dc",
   "metadata": {},
   "source": [
    "## Lab 1 - Bài 1"
   ]
  },
  {
   "cell_type": "code",
   "execution_count": 1,
   "id": "001e0507",
   "metadata": {},
   "outputs": [
    {
     "name": "stdout",
     "output_type": "stream",
     "text": [
      "Xin chào\n",
      "Tôi tên là Lê Nhựt Thái\n",
      "Tôi đến từ An Giang\n"
     ]
    }
   ],
   "source": [
    "# Code lab 1 bài 1 ở đây\n",
    "print('Xin chào')\n",
    "print('Tôi tên là Lê Nhựt Thái')\n",
    "print('Tôi đến từ An Giang')"
   ]
  },
  {
   "cell_type": "markdown",
   "id": "c0835310",
   "metadata": {},
   "source": [
    "## Lab 1 - Bài 2"
   ]
  },
  {
   "cell_type": "code",
   "execution_count": 2,
   "id": "fbe1a03c",
   "metadata": {},
   "outputs": [
    {
     "name": "stdout",
     "output_type": "stream",
     "text": [
      "Chu vi hcn la  22\n",
      "Dien tich hcn la 30\n"
     ]
    }
   ],
   "source": [
    "# Code lab 1 bài 2 ở đây\n",
    "dai = int(input('Nhap chieu dai '))\n",
    "rong = int(input('Nhap chieu rong '))\n",
    "chuvi = (dai + rong) * 2\n",
    "dientich = dai * rong\n",
    "print('Chu vi hcn la ', chuvi)\n",
    "print('Dien tich hcn la', dientich)\n"
   ]
  },
  {
   "cell_type": "markdown",
   "id": "0f2483fe",
   "metadata": {},
   "source": [
    "## Lab 1 - Bài 3"
   ]
  },
  {
   "cell_type": "code",
   "execution_count": 3,
   "id": "7034990b",
   "metadata": {},
   "outputs": [
    {
     "name": "stdout",
     "output_type": "stream",
     "text": [
      "\"...\n",
      "Sống không giận, không hờn không oán trách\n",
      "Sống mỉm cười, với thử thách chông gai\n",
      "Sống vươn lên, theo kịp ánh ban mai\n",
      "Sống chan hòa, với những người chung sống.\n",
      "\n",
      "Sống là động, nhưng lòng luôn bất động\n",
      "Sống là thương, nhưng lòng chẳng vấn vương\n",
      "Sống yên vui, danh lợi mãi coi thường\n",
      "Tâm bất biến giữa dòng đời vạn biến.\n",
      "...\"\n"
     ]
    }
   ],
   "source": [
    "# Code lab 1  bài 3 ở đây\n",
    "print('\"...')\n",
    "song = \"Sống\"\n",
    "print(f\"{song} không giận, không hờn không oán trách\")\n",
    "print(f\"{song} mỉm cười, với thử thách chông gai\")\n",
    "print(f\"{song} vươn lên, theo kịp ánh ban mai\")\n",
    "print(f\"{song} chan hòa, với những người chung sống.\")\n",
    "print('')\n",
    "print(f\"{song} là động, nhưng lòng luôn bất động\")\n",
    "print(f\"{song} là thương, nhưng lòng chẳng vấn vương\")\n",
    "print(f\"{song} yên vui, danh lợi mãi coi thường\")\n",
    "print(\"Tâm bất biến giữa dòng đời vạn biến.\")\n",
    "print('...\"')\n"
   ]
  },
  {
   "cell_type": "markdown",
   "id": "d36ea3d3",
   "metadata": {},
   "source": [
    "## Lab 1 - Bài 4"
   ]
  },
  {
   "cell_type": "code",
   "execution_count": 33,
   "id": "4c707ec1",
   "metadata": {},
   "outputs": [
    {
     "name": "stdout",
     "output_type": "stream",
     "text": [
      "Nhập vào hệ số phương trình bậc 2: ax^2 + bx + c = 0\n",
      "Can delta = 6.6332495807108j\n"
     ]
    }
   ],
   "source": [
    "# code lab 1 bài 4 ở đây\n",
    "import cmath\n",
    "print(\"Nhập vào hệ số phương trình bậc 2: ax^2 + bx + c = 0\")\n",
    "a = float(input(\"Nhập a: \"))\n",
    "b = float(input(\"Nhập b: \"))\n",
    "c = float(input(\"Nhập c: \"))\n",
    "\n",
    "if a == 0:\n",
    "    if b == 0:\n",
    "        if c == 0:\n",
    "            print(\"Phương trình vô số nghiệm!\")\n",
    "        else:\n",
    "            print(\"Phương trình vô nghiệm!\")\n",
    "    else:\n",
    "        if c == 0:\n",
    "            print(\"Phương trình có 1 nghiệm x = 0\")\n",
    "        else:\n",
    "            print(\"Phương trình có 1 nghiệm x = \", -c / b)\n",
    "else:\n",
    "    delta = b ** 2 - 4 * a * c\n",
    "can_delta = cmath.sqrt(delta)\n",
    "print(\"Can delta =\", can_delta)\n"
   ]
  },
  {
   "cell_type": "markdown",
   "id": "e2b41d4a",
   "metadata": {},
   "source": [
    "## Lab 1 - Bài 5: bài tập làm thêm"
   ]
  },
  {
   "cell_type": "code",
   "execution_count": 28,
   "id": "0e0172f7",
   "metadata": {},
   "outputs": [
    {
     "name": "stdout",
     "output_type": "stream",
     "text": [
      "Tổng x, y =  9.0\n",
      "Hiệu x, y =  -1.0\n",
      "Tích x, y =  20.0\n",
      "Thương x, y =  0.8\n",
      "Lũy thừa x^y =  1024.0\n",
      "Sin (4.0) = -0.76\n",
      "Sin (5.0) = -0.96\n",
      "Cos (4.0) = -0.65\n",
      "Cos (5.0) = 0.28\n",
      "Tan (4.0) = 1.16\n",
      "Tan (5.0) = -3.38\n",
      "log10(4.0) = 0.60\n",
      "log10(5.0) = 0.70\n",
      "ln(4.0) = 1.39\n",
      "ln(5.0) = 1.61\n",
      "Log 5.0 (4.0) = 0.86\n",
      "Log 5.0 (4.0) = 0.86\n"
     ]
    }
   ],
   "source": [
    "# code lab 1  bài làm thêm ở đây\n",
    "# Viết chương trình nhập vào x, y và tính\n",
    "import math\n",
    "x = float(input(\"Nhập số x:\"))\n",
    "y = float(input(\"Nhập số y:\"))\n",
    "# Tổng\n",
    "tong = x + y\n",
    "print(\"Tổng x, y = \", round(tong,2))\n",
    "# Hiệu\n",
    "hieu = x - y\n",
    "print(\"Hiệu x, y = \", round(hieu,2))\n",
    "# Tích\n",
    "tich = x * y\n",
    "print(\"Tích x, y = \", round(tich,2))\n",
    "# Thương\n",
    "thuong = x / y\n",
    "print(\"Thương x, y = \", round(thuong,2))\n",
    "# Lũy thừa x^y\n",
    "luythua = x ** y\n",
    "print(\"Lũy thừa x^y = \", round(luythua,2))\n",
    "# Sin\n",
    "sin_x = math.sin(x)\n",
    "sin_y = math.sin(y)\n",
    "print(f\"Sin ({x}) = {sin_x:.2f}\")\n",
    "print(f\"Sin ({y}) = {sin_y:.2f}\")\n",
    "# Cos\n",
    "cos_x = math.cos(x)\n",
    "cos_y = math.cos(y)\n",
    "print(f\"Cos ({x}) = {cos_x:.2f}\")\n",
    "print(f\"Cos ({y}) = {cos_y:.2f}\")\n",
    "# Tan\n",
    "tan_x = math.tan(x)\n",
    "tan_y = math.tan(y)\n",
    "print(f\"Tan ({x}) = {tan_x:.2f}\")\n",
    "print(f\"Tan ({y}) = {tan_y:.2f}\")\n",
    "# Log cơ số 10\n",
    "if x > 0:\n",
    "    log_x = math.log10(x)\n",
    "    print(f\"log10({x}) = {log_x:.2f}\")\n",
    "else:\n",
    "    print(\"Không tính được log10(x) vì x <= 0\")\n",
    "\n",
    "if y > 0:\n",
    "    log_y = math.log10(y)\n",
    "    print(f\"log10({y}) = {log_y:.2f}\")\n",
    "else:\n",
    "    print(\"Không tính được log10(y) vì y <= 0\")\n",
    "# ln\n",
    "if x > 0:\n",
    "    ln_x = math.log(x)\n",
    "    print(f\"ln({x}) = {ln_x:.2f}\")\n",
    "else:\n",
    "    print(\"Không tính được ln(x) vì x <= 0\")\n",
    "\n",
    "if y > 0:\n",
    "    ln_y = math.log(y)\n",
    "    print(f\"ln({y}) = {ln_y:.2f}\")\n",
    "else:\n",
    "    print(\"Không tính được ln(y) vì y <= 0\")\n",
    "# Log cơ số tùy chọn\n",
    "co_so = float(input(\"Nhập cơ số: \"))\n",
    "if co_so <= 0 or co_so == 1:\n",
    "    print(\"Cơ số phải > 0 và khác 1\")\n",
    "else:\n",
    "    if x > 0:\n",
    "        log_x = math.log(x, co_so)\n",
    "        print(f\"Log {co_so} ({x}) = {log_x:.2f}\")\n",
    "    else:\n",
    "        print(\"Không tính được log(x) vì x <= 0\")\n",
    "\n",
    "    if y > 0:\n",
    "        log_y = math.log(y, co_so)\n",
    "        print(f\"Log {co_so} ({x}) = {log_x:.2f}\")\n",
    "    else:\n",
    "        print(\"Không tính được log(y) vì y <= 0\")\n",
    "     \n",
    "    \n",
    "\n",
    "\n"
   ]
  }
 ],
 "metadata": {
  "kernelspec": {
   "display_name": "Python 3",
   "language": "python",
   "name": "python3"
  },
  "language_info": {
   "codemirror_mode": {
    "name": "ipython",
    "version": 3
   },
   "file_extension": ".py",
   "mimetype": "text/x-python",
   "name": "python",
   "nbconvert_exporter": "python",
   "pygments_lexer": "ipython3",
   "version": "3.13.7"
  }
 },
 "nbformat": 4,
 "nbformat_minor": 5
}
