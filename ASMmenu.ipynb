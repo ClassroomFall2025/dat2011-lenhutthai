{
 "cells": [
  {
   "cell_type": "code",
   "execution_count": 1,
   "id": "ce079462",
   "metadata": {},
   "outputs": [
    {
     "name": "stdout",
     "output_type": "stream",
     "text": [
      "\n",
      "====================== HỆ THỐNG QUẢN LÝ NHÂN VIÊN ======================\n",
      "0. Thoát\n",
      "1. Nhập danh sách nhân viên\n",
      "2. Đọc thông tin nhân viên từ file và xuất danh sách nhân viên\n",
      "3. Tìm và hiển thị nhân viên theo mã\n",
      "4. Xóa nhân viên theo mã\n",
      "5. Cập nhật thông tin nhân viên theo mã\n",
      "6. Tìm các nhân viên theo khoảng lương nhập\n",
      "7. Sắp xếp nhân viên theo họ tên\n",
      "8. Sắp xếp nhân viên theo thu nhập\n",
      "9. Xuất 5 nhân viên có thu nhập cao nhất\n",
      "==========================================================================\n"
     ]
    },
    {
     "ename": "TypeError",
     "evalue": "tim_theo_ma() missing 1 required positional argument: 'ds'",
     "output_type": "error",
     "traceback": [
      "\u001b[31m---------------------------------------------------------------------------\u001b[39m",
      "\u001b[31mTypeError\u001b[39m                                 Traceback (most recent call last)",
      "\u001b[36mCell\u001b[39m\u001b[36m \u001b[39m\u001b[32mIn[1]\u001b[39m\u001b[32m, line 45\u001b[39m\n\u001b[32m     42\u001b[39m                 top_5_thu_nhap()\n\u001b[32m     44\u001b[39m \u001b[38;5;66;03m# Gọi menu\u001b[39;00m\n\u001b[32m---> \u001b[39m\u001b[32m45\u001b[39m \u001b[43mmenu\u001b[49m\u001b[43m(\u001b[49m\u001b[43m)\u001b[49m\n",
      "\u001b[36mCell\u001b[39m\u001b[36m \u001b[39m\u001b[32mIn[1]\u001b[39m\u001b[32m, line 30\u001b[39m, in \u001b[36mmenu\u001b[39m\u001b[34m()\u001b[39m\n\u001b[32m     28\u001b[39m     \u001b[38;5;28;01mbreak\u001b[39;00m\n\u001b[32m     29\u001b[39m \u001b[38;5;28;01mcase\u001b[39;00m \u001b[33m\"\u001b[39m\u001b[33m3\u001b[39m\u001b[33m\"\u001b[39m:\n\u001b[32m---> \u001b[39m\u001b[32m30\u001b[39m     \u001b[43mtim_theo_ma\u001b[49m\u001b[43m(\u001b[49m\u001b[43m)\u001b[49m\n\u001b[32m     31\u001b[39m \u001b[38;5;28;01mcase\u001b[39;00m \u001b[33m\"\u001b[39m\u001b[33m4\u001b[39m\u001b[33m\"\u001b[39m:\n\u001b[32m     32\u001b[39m     xoa_theo_ma()\n",
      "\u001b[31mTypeError\u001b[39m: tim_theo_ma() missing 1 required positional argument: 'ds'"
     ]
    }
   ],
   "source": [
    "# Tạo menu\n",
    "from ASMchucnang import *\n",
    "def menu():\n",
    "    while True:\n",
    "        print(\"\\n====================== HỆ THỐNG QUẢN LÝ NHÂN VIÊN ======================\")\n",
    "        print(\"0. Thoát\")\n",
    "        print(\"1. Nhập danh sách nhân viên\")\n",
    "        print(\"2. Đọc thông tin nhân viên từ file và xuất danh sách nhân viên\")\n",
    "        print(\"3. Tìm và hiển thị nhân viên theo mã\")\n",
    "        print(\"4. Xóa nhân viên theo mã\")\n",
    "        print(\"5. Cập nhật thông tin nhân viên theo mã\")\n",
    "        print(\"6. Tìm các nhân viên theo khoảng lương nhập\")\n",
    "        print(\"7. Sắp xếp nhân viên theo họ tên\")\n",
    "        print(\"8. Sắp xếp nhân viên theo thu nhập\")\n",
    "        print(\"9. Xuất 5 nhân viên có thu nhập cao nhất\")\n",
    "        print(\"==========================================================================\")\n",
    "        \n",
    "\n",
    "        chon = input(\"Nhập lựa chọn của bạn: \")\n",
    "\n",
    "        match chon:\n",
    "            case \"0\":\n",
    "                print(\"Thoát chương trình.\")\n",
    "                break\n",
    "            case \"1\":\n",
    "                nhap_nhan_vien()\n",
    "            case \"2\":\n",
    "                break\n",
    "            case \"3\":\n",
    "                tim_theo_ma()\n",
    "            case \"4\":\n",
    "                xoa_theo_ma()\n",
    "            case \"5\":\n",
    "                cap_nhat_theo_ma()\n",
    "            case \"6\":\n",
    "                tim_theo_khoang_luong\n",
    "            case \"7\":\n",
    "                sap_xep_theo_ho_ten\n",
    "            case \"8\":\n",
    "                sap_xep_theo_thu_nhap\n",
    "            case \"9\":\n",
    "                top_5_thu_nhap()\n",
    "\n",
    "# Gọi menu\n",
    "menu()\n"
   ]
  }
 ],
 "metadata": {
  "kernelspec": {
   "display_name": "Python 3",
   "language": "python",
   "name": "python3"
  },
  "language_info": {
   "codemirror_mode": {
    "name": "ipython",
    "version": 3
   },
   "file_extension": ".py",
   "mimetype": "text/x-python",
   "name": "python",
   "nbconvert_exporter": "python",
   "pygments_lexer": "ipython3",
   "version": "3.13.8"
  }
 },
 "nbformat": 4,
 "nbformat_minor": 5
}
