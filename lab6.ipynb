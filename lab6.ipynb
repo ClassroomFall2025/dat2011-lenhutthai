{
 "cells": [
  {
   "cell_type": "markdown",
   "id": "fdeff819",
   "metadata": {},
   "source": [
    "# Sinh Viên thực hiện Lab 6 ở Đây"
   ]
  },
  {
   "cell_type": "markdown",
   "id": "acc5d7dc",
   "metadata": {},
   "source": [
    "## Lab 6 - Bài 1"
   ]
  },
  {
   "cell_type": "code",
   "execution_count": null,
   "id": "001e0507",
   "metadata": {},
   "outputs": [
    {
     "name": "stdout",
     "output_type": "stream",
     "text": [
      "Chieu dai: 10\n",
      "Chieu rong: 5\n",
      "Chu vi: 30\n",
      "Dien tich: 50\n",
      "Chieu dai: 7\n",
      "Chieu rong: 7\n",
      "Chu vi: 28\n",
      "Dien tich: 49\n"
     ]
    }
   ],
   "source": [
    "# Code lab 6 bài 1 ở đây\n",
    "from lab6_chunhat import *\n",
    "cn = ChuNhat(5,10)\n",
    "vu = Vuong(7,7)\n",
    "cn.xuat()\n",
    "vu.xuat()\n",
    "\n",
    "\n",
    "\n"
   ]
  },
  {
   "cell_type": "markdown",
   "id": "c0835310",
   "metadata": {},
   "source": [
    "## Lab 6 - Bài 2"
   ]
  },
  {
   "cell_type": "code",
   "execution_count": null,
   "id": "fa9cb39f",
   "metadata": {},
   "outputs": [],
   "source": [
    "# Code lab 6  bài 2 ở đây"
   ]
  },
  {
   "cell_type": "markdown",
   "id": "0f2483fe",
   "metadata": {},
   "source": [
    "## Lab 6 - Bài 3"
   ]
  },
  {
   "cell_type": "code",
   "execution_count": null,
   "id": "7034990b",
   "metadata": {},
   "outputs": [],
   "source": [
    "# Code lab 6  bài 3 ở đây"
   ]
  },
  {
   "cell_type": "markdown",
   "id": "d36ea3d3",
   "metadata": {},
   "source": [
    "## Lab 6 - Bài 4"
   ]
  },
  {
   "cell_type": "code",
   "execution_count": null,
   "id": "4c707ec1",
   "metadata": {},
   "outputs": [
    {
     "name": "stdout",
     "output_type": "stream",
     "text": [
      "==============================Menu==============================\n",
      "0:Thoát chương trình\n",
      "1:Nhập thông tin sinh viên\n",
      "2:Xuất danh sách sinh viên\n",
      "3:Xuất danh sách sinh viên học lực giỏi\n",
      "4:Sắp xếp danh sách sinh viên theo điểm\n",
      "===============================================================\n",
      "Nhập thông tin sinh viên:\n",
      "==============================Menu==============================\n",
      "0:Thoát chương trình\n",
      "1:Nhập thông tin sinh viên\n",
      "2:Xuất danh sách sinh viên\n",
      "3:Xuất danh sách sinh viên học lực giỏi\n",
      "4:Sắp xếp danh sách sinh viên theo điểm\n",
      "===============================================================\n",
      "\n",
      "Danh sách sinh viên:\n",
      "Họ tên: thai Ngành: it Học lực: Gioi\n",
      "Họ tên: thuong Ngành: biz Học lực: Trung binh\n",
      "Họ tên:  Ngành: biz Học lực: Trung binh\n",
      "==============================Menu==============================\n",
      "0:Thoát chương trình\n",
      "1:Nhập thông tin sinh viên\n",
      "2:Xuất danh sách sinh viên\n",
      "3:Xuất danh sách sinh viên học lực giỏi\n",
      "4:Sắp xếp danh sách sinh viên theo điểm\n",
      "===============================================================\n",
      "\n",
      "Danh sách sinh viên học lực giỏi:\n",
      "Họ tên: thai Ngành: it Học lực: Gioi\n",
      "==============================Menu==============================\n",
      "0:Thoát chương trình\n",
      "1:Nhập thông tin sinh viên\n",
      "2:Xuất danh sách sinh viên\n",
      "3:Xuất danh sách sinh viên học lực giỏi\n",
      "4:Sắp xếp danh sách sinh viên theo điểm\n",
      "===============================================================\n",
      "\n",
      "Danh sách sinh viên xếp theo điểm:\n",
      "Tên: 1. thai it Gioi Điểm: 8.75\n",
      "Tên: 2. thuong biz Trung binh Điểm: 6.33\n",
      "Tên: 3.  biz Trung binh Điểm: 6.33\n",
      "==============================Menu==============================\n",
      "0:Thoát chương trình\n",
      "1:Nhập thông tin sinh viên\n",
      "2:Xuất danh sách sinh viên\n",
      "3:Xuất danh sách sinh viên học lực giỏi\n",
      "4:Sắp xếp danh sách sinh viên theo điểm\n",
      "===============================================================\n",
      "Thoát chương trình.\n"
     ]
    }
   ],
   "source": [
    "# code lab 6 bài 4 ở đây\n",
    "# Import các lớp\n",
    "from lab6_sinhvienpoly import *\n",
    "from lab6_quanlysinhvien import *\n",
    "qlsv = QuanLySinhVien()\n",
    "# Tạo menu\n",
    "menu = {\n",
    "    \"0\": \"Thoát chương trình\",\n",
    "    \"1\": \"Nhập thông tin sinh viên\",\n",
    "    \"2\": \"Xuất danh sách sinh viên\",\n",
    "    \"3\": \"Xuất danh sách sinh viên học lực giỏi\",\n",
    "    \"4\": \"Sắp xếp danh sách sinh viên theo điểm\"\n",
    "}\n",
    "\n",
    "while True:\n",
    "    print(\"===\" * 10 + \"Menu\" + \"===\" * 10)\n",
    "    for k, v in menu.items():\n",
    "        print(f\"{k}:{v}\")\n",
    "    print(\"===\" * 10  + \"===\" + \"===\" * 10)\n",
    "\n",
    "    chon = input(\"Nhập lựa chọn của bạn: \")\n",
    "    match chon:\n",
    "        case \"0\":\n",
    "            print(\"Thoát chương trình.\")\n",
    "            break\n",
    "        case \"1\":\n",
    "            print(\"Nhập thông tin sinh viên:\")\n",
    "            qlsv.nhap_sinh_vien()\n",
    "        case \"2\":\n",
    "            print(\"\\nDanh sách sinh viên:\")\n",
    "            qlsv.xuat_sinh_vien()\n",
    "        case \"3\":\n",
    "            print(\"\\nDanh sách sinh viên học lực giỏi:\")\n",
    "            qlsv.xuat_sinh_vien_gioi()\n",
    "        case \"4\":\n",
    "            print(\"\\nDanh sách sinh viên xếp theo điểm:\")\n",
    "            qlsv.sap_xep_sinh_vien_theo_diem()\n",
    "         \n",
    "                \n",
    "\n"
   ]
  },
  {
   "cell_type": "markdown",
   "id": "e2b41d4a",
   "metadata": {},
   "source": [
    "## Lab 6 - Bài 5: bài tập làm thêm"
   ]
  },
  {
   "cell_type": "code",
   "execution_count": null,
   "id": "0e0172f7",
   "metadata": {},
   "outputs": [],
   "source": [
    "# code lab 6  bài làm thêm ở đây "
   ]
  }
 ],
 "metadata": {
  "kernelspec": {
   "display_name": "Python 3",
   "language": "python",
   "name": "python3"
  },
  "language_info": {
   "codemirror_mode": {
    "name": "ipython",
    "version": 3
   },
   "file_extension": ".py",
   "mimetype": "text/x-python",
   "name": "python",
   "nbconvert_exporter": "python",
   "pygments_lexer": "ipython3",
   "version": "3.13.8"
  }
 },
 "nbformat": 4,
 "nbformat_minor": 5
}
