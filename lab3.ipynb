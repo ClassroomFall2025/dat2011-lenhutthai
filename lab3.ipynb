{
 "cells": [
  {
   "cell_type": "markdown",
   "id": "fdeff819",
   "metadata": {},
   "source": [
    "# Sinh Viên thực hiện Lab 3 ở Đây"
   ]
  },
  {
   "cell_type": "markdown",
   "id": "acc5d7dc",
   "metadata": {},
   "source": [
    "## Lab 3 - Bài 1"
   ]
  },
  {
   "cell_type": "code",
   "execution_count": null,
   "id": "001e0507",
   "metadata": {},
   "outputs": [
    {
     "name": "stdout",
     "output_type": "stream",
     "text": [
      "Dãy số vừa nhập: [3, 6, 9, 45, 25, 16, 35, 98, 101, 566, 81, 70]\n",
      "Thứ tự tăng dần: [3, 6, 9, 16, 25, 35, 45, 70, 81, 98, 101, 566]\n",
      "Phần tử nhỏ nhất là: 3\n",
      "Trung bình cộng các phần tử chia hết cho 3 là: 28.8\n"
     ]
    }
   ],
   "source": [
    "# Code lab 3 bài 1 ở đây\n",
    "# Nhập dãy số nguyên cách nhau bởi dấu cách\n",
    "day_so = list(map(int, input(\"Nhập dãy số, cách nhau bởi dấu cách: \").split()))\n",
    "print(\"Dãy số vừa nhập:\", day_so)\n",
    "# Sắp xếp dãy số theo thứ tự tăng dần\n",
    "tang_dan = sorted(day_so)\n",
    "print(\"Thứ tự tăng dần:\",tang_dan)\n",
    "# Xuất phần tử có giá trị nhỏ nhất ra màn hình\n",
    "nho_nhat = min(day_so)\n",
    "print(\"Phần tử nhỏ nhất là:\",nho_nhat)\n",
    "# Tính và xuất ra màn hình trung bình cộng các phần tử chia hết cho 3\n",
    "chia_het_3 = [x for x in day_so if x % 3 == 0]\n",
    "if chia_het_3:\n",
    "    trung_binh_cong = sum(chia_het_3) / len(chia_het_3)\n",
    "    print(\"Trung bình cộng các phần tử chia hết cho 3 là:\", trung_binh_cong)\n",
    "else:\n",
    "    print(\"Không có phần tử nào chia hết cho 3.\")\n"
   ]
  },
  {
   "cell_type": "markdown",
   "id": "c0835310",
   "metadata": {},
   "source": [
    "## Lab 3 - Bài 2"
   ]
  },
  {
   "cell_type": "code",
   "execution_count": 14,
   "id": "fa9cb39f",
   "metadata": {},
   "outputs": [
    {
     "name": "stdout",
     "output_type": "stream",
     "text": [
      "Thông tin sinh viên: {'ho_ten': '', 'diem': 11.0}\n",
      "Xếp loại sinh viên: Giỏi\n"
     ]
    }
   ],
   "source": [
    "# Code lab 3  bài 2 ở đây\n",
    "# Tạo dictionary lưu thông tin sinh viên \n",
    "sinh_vien = {}\n",
    "sinh_vien[\"ho_ten\"] = input(\"Nhập họ tên sinh viên: \")\n",
    "sinh_vien[\"diem\"] = float(input(\"Nhập điểm sinh viên: \"))\n",
    "print(\"Thông tin sinh viên:\", sinh_vien)\n",
    "# Xếp loại\n",
    "if sinh_vien[\"diem\"] >= 8:\n",
    "    sinh_vien[\"xep_loai\"] = \"Giỏi\"\n",
    "elif sinh_vien[\"diem\"] >= 6.5:\n",
    "    sinh_vien[\"xep_loai\"] = \"Khá\"\n",
    "elif sinh_vien[\"diem\"] >= 5:\n",
    "    sinh_vien[\"xep_loai\"] = \"Trung bình\"\n",
    "else:\n",
    "    sinh_vien[\"xep_loai\"] = \"Yếu\"\n",
    "print(\"Xếp loại sinh viên:\", sinh_vien[\"xep_loai\"])\n"
   ]
  },
  {
   "cell_type": "markdown",
   "id": "0f2483fe",
   "metadata": {},
   "source": [
    "## Lab 3 - Bài 3"
   ]
  },
  {
   "cell_type": "code",
   "execution_count": null,
   "id": "7034990b",
   "metadata": {},
   "outputs": [
    {
     "name": "stdout",
     "output_type": "stream",
     "text": [
      "47 là số nguyên tố\n"
     ]
    }
   ],
   "source": [
    "# Code lab 3  bài 3 ở đây\n",
    "# Nhập số nguyên dương n\n",
    "n = int(input(\"Nhập số nguyên dương n: \"))\n",
    "# Giả sử n ban đầu là số nguyên tố\n",
    "ok = True\n",
    "i = 2\n",
    "# Kiểm tra từ 2 đến n - 1\n",
    "while i < (n - 1):\n",
    "    if n % i == 0:\n",
    "        ok = False\n",
    "        break\n",
    "    i += 1\n",
    "# Xuất kết quả\n",
    "if n > 1 and ok:\n",
    "    print(n, \"là số nguyên tố\")\n",
    "else:\n",
    "    print(n, \"không phải là số nguyên tố\")"
   ]
  },
  {
   "cell_type": "markdown",
   "id": "d36ea3d3",
   "metadata": {},
   "source": [
    "## Lab 3 - Bài 4"
   ]
  },
  {
   "cell_type": "code",
   "execution_count": 38,
   "id": "4c707ec1",
   "metadata": {},
   "outputs": [
    {
     "name": "stdout",
     "output_type": "stream",
     "text": [
      "1 x 1 = 1\t2 x 1 = 2\t3 x 1 = 3\t4 x 1 = 4\t5 x 1 = 5\t6 x 1 = 6\t7 x 1 = 7\t8 x 1 = 8\t9 x 1 = 9\t10 x 1 = 10\t\n",
      "1 x 2 = 2\t2 x 2 = 4\t3 x 2 = 6\t4 x 2 = 8\t5 x 2 = 10\t6 x 2 = 12\t7 x 2 = 14\t8 x 2 = 16\t9 x 2 = 18\t10 x 2 = 20\t\n",
      "1 x 3 = 3\t2 x 3 = 6\t3 x 3 = 9\t4 x 3 = 12\t5 x 3 = 15\t6 x 3 = 18\t7 x 3 = 21\t8 x 3 = 24\t9 x 3 = 27\t10 x 3 = 30\t\n",
      "1 x 4 = 4\t2 x 4 = 8\t3 x 4 = 12\t4 x 4 = 16\t5 x 4 = 20\t6 x 4 = 24\t7 x 4 = 28\t8 x 4 = 32\t9 x 4 = 36\t10 x 4 = 40\t\n",
      "1 x 5 = 5\t2 x 5 = 10\t3 x 5 = 15\t4 x 5 = 20\t5 x 5 = 25\t6 x 5 = 30\t7 x 5 = 35\t8 x 5 = 40\t9 x 5 = 45\t10 x 5 = 50\t\n",
      "1 x 6 = 6\t2 x 6 = 12\t3 x 6 = 18\t4 x 6 = 24\t5 x 6 = 30\t6 x 6 = 36\t7 x 6 = 42\t8 x 6 = 48\t9 x 6 = 54\t10 x 6 = 60\t\n",
      "1 x 7 = 7\t2 x 7 = 14\t3 x 7 = 21\t4 x 7 = 28\t5 x 7 = 35\t6 x 7 = 42\t7 x 7 = 49\t8 x 7 = 56\t9 x 7 = 63\t10 x 7 = 70\t\n",
      "1 x 8 = 8\t2 x 8 = 16\t3 x 8 = 24\t4 x 8 = 32\t5 x 8 = 40\t6 x 8 = 48\t7 x 8 = 56\t8 x 8 = 64\t9 x 8 = 72\t10 x 8 = 80\t\n",
      "1 x 9 = 9\t2 x 9 = 18\t3 x 9 = 27\t4 x 9 = 36\t5 x 9 = 45\t6 x 9 = 54\t7 x 9 = 63\t8 x 9 = 72\t9 x 9 = 81\t10 x 9 = 90\t\n",
      "1 x 10 = 10\t2 x 10 = 20\t3 x 10 = 30\t4 x 10 = 40\t5 x 10 = 50\t6 x 10 = 60\t7 x 10 = 70\t8 x 10 = 80\t9 x 10 = 90\t10 x 10 = 100\t\n"
     ]
    }
   ],
   "source": [
    "# code lab 3 bài 4 ở đây\n",
    "# In bảng cửu chương từ 1 đến 9\n",
    "for i in range(1, 11):         # vòng lặp theo hàng (1 -> 9)\n",
    "    for j in range(1, 11):     # vòng lặp theo cột (1 -> 9)\n",
    "        # In phép nhân, end=\"\\t\" để căn cách bằng tab\n",
    "        print(f\"{j} x {i} = {i*j}\", end=\"\\t\")\n",
    "    print()  # xuống dòng sau mỗi hàng\n"
   ]
  },
  {
   "cell_type": "markdown",
   "id": "e2b41d4a",
   "metadata": {},
   "source": [
    "## Lab 3 - Bài 5: bài tập làm thêm"
   ]
  },
  {
   "cell_type": "code",
   "execution_count": null,
   "id": "0e0172f7",
   "metadata": {},
   "outputs": [
    {
     "name": "stdout",
     "output_type": "stream",
     "text": [
      "Tổng x, y =  15.0\n",
      "Hiệu x, y =  -5.0\n",
      "Tích x, y =  50.0\n",
      "Thương x, y =  0.5\n",
      "Lũy thừa x^y =  9765625.0\n",
      "Sin (5.0) = -0.96\n",
      "Sin (10.0) = -0.54\n",
      "Cos (5.0) = 0.28\n",
      "Cos (10.0) = -0.84\n",
      "Tan (5.0) = -3.38\n",
      "Tan (10.0) = 0.65\n",
      "log10(5.0) = 0.70\n",
      "log10(10.0) = 1.00\n",
      "ln(5.0) = 1.61\n",
      "ln(10.0) = 2.30\n",
      "Log 10.0 (5.0) = 0.70\n",
      "Log 10.0 (5.0) = 0.70\n",
      "Phương trình có nghiệm x = -1.33\n",
      "Giải phương trình bậc hai ax^2 + bx + c = 0\n",
      "Phương trình vô nghiệm\n"
     ]
    }
   ],
   "source": [
    "# code lab 3  bài làm thêm ở đây\n",
    "# Viết chương trình nhập vào x, y và tính\n",
    "import math\n",
    "x = float(input(\"Nhập số x:\"))\n",
    "y = float(input(\"Nhập số y:\"))\n",
    "# Tổng\n",
    "tong = x + y\n",
    "print(\"Tổng x, y = \", round(tong,2))\n",
    "# Hiệu\n",
    "hieu = x - y\n",
    "print(\"Hiệu x, y = \", round(hieu,2))\n",
    "# Tích\n",
    "tich = x * y\n",
    "print(\"Tích x, y = \", round(tich,2))\n",
    "# Thương\n",
    "thuong = x / y\n",
    "print(\"Thương x, y = \", round(thuong,2))\n",
    "# Lũy thừa x^y\n",
    "luythua = x ** y\n",
    "print(\"Lũy thừa x^y = \", round(luythua,2))\n",
    "# Sin\n",
    "sin_x = math.sin(x)\n",
    "sin_y = math.sin(y)\n",
    "print(f\"Sin ({x}) = {sin_x:.2f}\")\n",
    "print(f\"Sin ({y}) = {sin_y:.2f}\")\n",
    "# Cos\n",
    "cos_x = math.cos(x)\n",
    "cos_y = math.cos(y)\n",
    "print(f\"Cos ({x}) = {cos_x:.2f}\")\n",
    "print(f\"Cos ({y}) = {cos_y:.2f}\")\n",
    "# Tan\n",
    "tan_x = math.tan(x)\n",
    "tan_y = math.tan(y)\n",
    "print(f\"Tan ({x}) = {tan_x:.2f}\")\n",
    "print(f\"Tan ({y}) = {tan_y:.2f}\")\n",
    "# Log cơ số 10\n",
    "if x > 0:\n",
    "    log_x = math.log10(x)\n",
    "    print(f\"log10({x}) = {log_x:.2f}\")\n",
    "else:\n",
    "    print(\"Không tính được log10(x) vì x <= 0\")\n",
    "\n",
    "if y > 0:\n",
    "    log_y = math.log10(y)\n",
    "    print(f\"log10({y}) = {log_y:.2f}\")\n",
    "else:\n",
    "    print(\"Không tính được log10(y) vì y <= 0\")\n",
    "# ln\n",
    "if x > 0:\n",
    "    ln_x = math.log(x)\n",
    "    print(f\"ln({x}) = {ln_x:.2f}\")\n",
    "else:\n",
    "    print(\"Không tính được ln(x) vì x <= 0\")\n",
    "\n",
    "if y > 0:\n",
    "    ln_y = math.log(y)\n",
    "    print(f\"ln({y}) = {ln_y:.2f}\")\n",
    "else:\n",
    "    print(\"Không tính được ln(y) vì y <= 0\")\n",
    "# Log cơ số tùy chọn\n",
    "co_so = float(input(\"Nhập cơ số: \"))\n",
    "if co_so <= 0 or co_so == 1:\n",
    "    print(\"Cơ số phải > 0 và khác 1\")\n",
    "else:\n",
    "    if x > 0:\n",
    "        log_x = math.log(x, co_so)\n",
    "        print(f\"Log {co_so} ({x}) = {log_x:.2f}\")\n",
    "    else:\n",
    "        print(\"Không tính được log(x) vì x <= 0\")\n",
    "\n",
    "    if y > 0:\n",
    "        log_y = math.log(y, co_so)\n",
    "        print(f\"Log {co_so} ({x}) = {log_x:.2f}\")\n",
    "    else:\n",
    "        print(\"Không tính được log(y) vì y <= 0\")\n",
    "# Giải phương trình bậc nhất ax + b = 0\n",
    "a = float(input(\"Nhập số a: \"))\n",
    "b = float(input(\"Nhập số b: \"))\n",
    "if a == 0:\n",
    "    if b == 0:\n",
    "        print(\"Phương trình vô số nghiệm\")\n",
    "    else:\n",
    "        print(\"Phương trình vô nghiệm\")\n",
    "else:\n",
    "    x = -b/a\n",
    "    print(\"Phương trình có nghiệm x =\", round(x,2))\n",
    "# Giải phương trình bậc hai ax^2 + bx + c = 0\n",
    "print(\"Giải phương trình bậc hai ax^2 + bx + c = 0\")\n",
    "a = float(input(\"Nhập số a: \"))\n",
    "b = float(input(\"Nhập số b: \"))\n",
    "c = float(input(\"Nhập số c: \"))\n",
    "if a == 0:\n",
    "    if b == 0:\n",
    "        if c == 0:\n",
    "            print(\"Phương trình vô số nghiệm\")\n",
    "        else:\n",
    "            print(\"Phương trình vô nghiệm\")\n",
    "    else:\n",
    "        x = -c/b\n",
    "        print(\"Phương trình có nghiệm x =\", round(x,2))\n",
    "else:\n",
    "    delta = b**2 - 4*a*c\n",
    "    if delta < 0:\n",
    "        print(\"Phương trình vô nghiệm\")\n",
    "    elif delta == 0:\n",
    "        x = -b/(2*a)\n",
    "        print(\"Phương trình có nghiệm kép x1 = x2 =\", round(x,2))\n",
    "    else:\n",
    "        x1 = (-b + delta**0.5)/(2*a)\n",
    "        x2 = (-b - delta**0.5)/(2*a)\n",
    "        print(\"Phương trình có hai nghiệm phân biệt:\")\n",
    "        print(\"x1 =\", round(x1,2))\n",
    "        print(\"x2 =\", round(x2,2))\n",
    "# Thời gian hiện tại\n",
    "import datetime\n",
    "now = datetime.datetime.now()\n",
    "print(\"Thời gian hiện tại:\", now.strftime(\"%Y-%m-%d %H:%M:%S\"))\n",
    "\n"
   ]
  }
 ],
 "metadata": {
  "kernelspec": {
   "display_name": "Python 3",
   "language": "python",
   "name": "python3"
  },
  "language_info": {
   "codemirror_mode": {
    "name": "ipython",
    "version": 3
   },
   "file_extension": ".py",
   "mimetype": "text/x-python",
   "name": "python",
   "nbconvert_exporter": "python",
   "pygments_lexer": "ipython3",
   "version": "3.13.7"
  }
 },
 "nbformat": 4,
 "nbformat_minor": 5
}
