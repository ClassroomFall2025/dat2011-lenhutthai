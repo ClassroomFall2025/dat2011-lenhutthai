{
 "cells": [
  {
   "cell_type": "markdown",
   "id": "fdeff819",
   "metadata": {},
   "source": [
    "# Sinh Viên thực hiện Lab 8 ở Đây"
   ]
  },
  {
   "cell_type": "markdown",
   "id": "acc5d7dc",
   "metadata": {},
   "source": [
    "## Lab 8 - Bài 1"
   ]
  },
  {
   "cell_type": "code",
   "execution_count": 2,
   "id": "001e0507",
   "metadata": {},
   "outputs": [
    {
     "name": "stdout",
     "output_type": "stream",
     "text": [
      "Họ: LE\n",
      "Tên: THAI\n",
      "Tên đệm: nhut\n"
     ]
    }
   ],
   "source": [
    "# Code lab 8 bài 1 ở đây\n",
    "# Nhập họ và tên từ bàn phím\n",
    "ho_ten = input(\"Nhập họ và tên: \")\n",
    "\n",
    "# Tách họ và tên ra thành các phần\n",
    "tach_ten = ho_ten.split()\n",
    "\n",
    "# Lấy họ (phần đầu tiên) và tên (phần cuối cùng)\n",
    "ho = tach_ten[0].upper()\n",
    "ten = tach_ten[-1].upper()\n",
    "\n",
    "# Nếu có tên đệm, lấy từ phần giữa\n",
    "ten_dem = \" \".join(tach_ten[1:-1])\n",
    "\n",
    "# In ra kết quả\n",
    "print(\"Họ:\", ho)\n",
    "print(\"Tên:\", ten)\n",
    "if ten_dem:\n",
    "    print(\"Tên đệm:\", ten_dem)\n"
   ]
  },
  {
   "cell_type": "markdown",
   "id": "c0835310",
   "metadata": {},
   "source": [
    "## Lab 8 - Bài 2"
   ]
  },
  {
   "cell_type": "code",
   "execution_count": 2,
   "id": "fa9cb39f",
   "metadata": {},
   "outputs": [
    {
     "name": "stdout",
     "output_type": "stream",
     "text": [
      "\n",
      "Thông tin sinh viên hợp lệ:\n",
      "Họ tên: Lê Nhựt Thái\n",
      "Email: thai123@gmail.com\n",
      "Số điện thoại: 0979272464\n",
      "CCCD: 123456789123\n"
     ]
    }
   ],
   "source": [
    "import re\n",
    "\n",
    "# Hàm kiểm tra định dạng\n",
    "def kiem_tra_email(email):\n",
    "    pattern = r'^[\\w\\.-]+@[\\w\\.-]+\\.\\w+$'\n",
    "    return re.match(pattern, email)\n",
    "\n",
    "def kiem_tra_sdt(sdt):\n",
    "    # Cho phép định dạng 10 số, bắt đầu bằng 0\n",
    "    pattern = r'^0\\d{9}$'\n",
    "    return re.match(pattern, sdt)\n",
    "\n",
    "def kiem_tra_cccd(cccd):\n",
    "    # CCCD chỉ có đúng 12 số\n",
    "    pattern = r'^\\d{12}$'\n",
    "    return re.match(pattern, cccd)\n",
    "\n",
    "# Nhập thông tin sinh viên\n",
    "sinh_vien = {}\n",
    "\n",
    "sinh_vien[\"Họ tên\"] = input(\"Nhập họ tên: \")\n",
    "\n",
    "# Nhập và kiểm tra email\n",
    "while True:\n",
    "    email = input(\"Nhập email: \")\n",
    "    if kiem_tra_email(email):\n",
    "        sinh_vien[\"Email\"] = email\n",
    "        break\n",
    "    else:\n",
    "        print(\"Email không hợp lệ! Vui lòng nhập lại (vd: ten@gmail.com)\")\n",
    "\n",
    "# Nhập và kiểm tra số điện thoại\n",
    "while True:\n",
    "    sdt = input(\"Nhập số điện thoại: \")\n",
    "    if kiem_tra_sdt(sdt):\n",
    "        sinh_vien[\"Số điện thoại\"] = sdt\n",
    "        break\n",
    "    else:\n",
    "        print(\"Số điện thoại không hợp lệ! Phải gồm 10 số và bắt đầu bằng 0.\")\n",
    "\n",
    "# Nhập và kiểm tra CMND\n",
    "while True:\n",
    "    cccd = input(\"Nhập CCCD: \")\n",
    "    if kiem_tra_cccd(cccd):\n",
    "        sinh_vien[\"CCCD\"] = cccd\n",
    "        break\n",
    "    else:\n",
    "        print(\"CCCD không hợp lệ! Phải có 12 số.\")\n",
    "\n",
    "# --- Xuất thông tin sinh viên ---\n",
    "print(\"\\nThông tin sinh viên hợp lệ:\")\n",
    "for k, v in sinh_vien.items():\n",
    "    print(f\"{k}: {v}\")\n",
    "\n"
   ]
  },
  {
   "cell_type": "markdown",
   "id": "0f2483fe",
   "metadata": {},
   "source": [
    "## Lab 8 - Bài 3"
   ]
  },
  {
   "cell_type": "code",
   "execution_count": 2,
   "id": "7034990b",
   "metadata": {},
   "outputs": [
    {
     "name": "stdout",
     "output_type": "stream",
     "text": [
      "Đã tạo và ghi 1 triệu số ngẫu nhiên vào file 'random_numbers.txt'\n"
     ]
    }
   ],
   "source": [
    "# Code lab 8 bài 3 ở đây\n",
    "import random\n",
    "\n",
    "# Tạo ra 1 triệu số ngẫu nhiên từ 0 đến 100\n",
    "random_numbers = [random.randint(0, 100) for _ in range(1000000)]\n",
    "\n",
    "# Mở file để ghi dữ liệu\n",
    "with open(\"lab8_random_numbers.txt\", \"w\") as file:\n",
    "    # Ghi các số vào file, mỗi số trên một dòng\n",
    "    for number in random_numbers:\n",
    "        file.write(f\"{number}\\n\")\n",
    "\n",
    "print(\"Đã tạo và ghi 1 triệu số ngẫu nhiên vào file 'random_numbers.txt'\")\n",
    "\n"
   ]
  },
  {
   "cell_type": "markdown",
   "id": "d36ea3d3",
   "metadata": {},
   "source": [
    "## Lab 8 - Bài 4"
   ]
  },
  {
   "cell_type": "code",
   "execution_count": 4,
   "id": "4c707ec1",
   "metadata": {},
   "outputs": [
    {
     "name": "stdout",
     "output_type": "stream",
     "text": [
      "Trung bình của bộ dữ liệu: 50.03212\n",
      "Độ lệch chuẩn của bộ dữ liệu: 29.151170750012014\n"
     ]
    }
   ],
   "source": [
    "# code lab 8 bài 4 ở đây\n",
    "import statistics\n",
    "\n",
    "# Đọc dữ liệu từ file\n",
    "with open(\"random_numbers.txt\", \"r\") as file:\n",
    "    # Đọc tất cả các số và chuyển thành danh sách các số nguyên\n",
    "    numbers = [int(line.strip()) for line in file]\n",
    "\n",
    "# Tính toán trung bình\n",
    "mean_value = statistics.mean(numbers)\n",
    "\n",
    "# Tính toán độ lệch chuẩn\n",
    "stdev_value = statistics.stdev(numbers)\n",
    "\n",
    "# In kết quả\n",
    "print(f\"Trung bình của bộ dữ liệu: {mean_value}\")\n",
    "print(f\"Độ lệch chuẩn của bộ dữ liệu: {stdev_value}\")"
   ]
  },
  {
   "cell_type": "markdown",
   "id": "e2b41d4a",
   "metadata": {},
   "source": [
    "## Lab 8 - Bài 5: bài tập làm thêm"
   ]
  },
  {
   "cell_type": "code",
   "execution_count": null,
   "id": "0e0172f7",
   "metadata": {},
   "outputs": [],
   "source": [
    "# code lab 8  bài làm thêm ở đây "
   ]
  }
 ],
 "metadata": {
  "kernelspec": {
   "display_name": "Python 3",
   "language": "python",
   "name": "python3"
  },
  "language_info": {
   "codemirror_mode": {
    "name": "ipython",
    "version": 3
   },
   "file_extension": ".py",
   "mimetype": "text/x-python",
   "name": "python",
   "nbconvert_exporter": "python",
   "pygments_lexer": "ipython3",
   "version": "3.13.8"
  }
 },
 "nbformat": 4,
 "nbformat_minor": 5
}
